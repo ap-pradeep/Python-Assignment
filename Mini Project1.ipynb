{
 "cells": [
  {
   "cell_type": "code",
   "execution_count": null,
   "id": "8d714fd5-0573-4ddf-8d2f-173932018c50",
   "metadata": {},
   "outputs": [
    {
     "name": "stdin",
     "output_type": "stream",
     "text": [
      "Enter the upper bound for the random number:  85\n",
      "Guess the number between 1 and 85:  52\n"
     ]
    },
    {
     "name": "stdout",
     "output_type": "stream",
     "text": [
      "No. The number is higher.\n"
     ]
    }
   ],
   "source": [
    "import random\n",
    "\n",
    "def guess_number(upper_bound):\n",
    "\n",
    "    random_number = random.randint(1, upper_bound)\n",
    "    \n",
    "    attempts = 0\n",
    "    \n",
    "    while True:\n",
    "        attempts += 1\n",
    "        user_guess = int(input(f\"Guess the number between 1 and {upper_bound}: \"))\n",
    "        \n",
    "        if user_guess == random_number:\n",
    "            print(f\"Congrats!!! You got it in {attempts} attempts.\")\n",
    "            break\n",
    "        elif user_guess < random_number:\n",
    "            print(\"No. The number is higher.\")\n",
    "        else:\n",
    "            print(\"No. The number is lower.\")\n",
    "\n",
    "\n",
    "if __name__ == \"__main__\":\n",
    "    try:\n",
    "        upper_bound = int(input(\"Enter the upper bound for the random number: \"))\n",
    "        guess_number(upper_bound)\n",
    "    except ValueError:\n",
    "        print(\"Invalid input. Please enter a valid number.\")\n"
   ]
  },
  {
   "cell_type": "code",
   "execution_count": null,
   "id": "388c7dcd-9f01-4ad8-b59c-ec86c4384aa0",
   "metadata": {},
   "outputs": [],
   "source": []
  }
 ],
 "metadata": {
  "kernelspec": {
   "display_name": "Python 3 (ipykernel)",
   "language": "python",
   "name": "python3"
  },
  "language_info": {
   "codemirror_mode": {
    "name": "ipython",
    "version": 3
   },
   "file_extension": ".py",
   "mimetype": "text/x-python",
   "name": "python",
   "nbconvert_exporter": "python",
   "pygments_lexer": "ipython3",
   "version": "3.11.7"
  }
 },
 "nbformat": 4,
 "nbformat_minor": 5
}
