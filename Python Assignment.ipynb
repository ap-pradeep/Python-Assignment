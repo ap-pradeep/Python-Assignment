{
 "cells": [
  {
   "cell_type": "code",
   "execution_count": null,
   "id": "570e7e80-59bf-4cda-b931-44c47a6f04dc",
   "metadata": {},
   "outputs": [],
   "source": [
    "\n",
    "Question No : 1 : Write a program to count a number of perfect square number in a given range,range is taken as input"
   ]
  },
  {
   "cell_type": "code",
   "execution_count": 4,
   "id": "16d47611-506c-4642-9025-96cc33bb630e",
   "metadata": {},
   "outputs": [
    {
     "name": "stdin",
     "output_type": "stream",
     "text": [
      "Enter the minimum value:  23\n",
      "Enter the maximum value:  45\n"
     ]
    },
    {
     "name": "stdout",
     "output_type": "stream",
     "text": [
      "Number of perfect squares in the range [23, 45]: 2\n"
     ]
    }
   ],
   "source": [
    "import math\n",
    "\n",
    "def perfect_squares(min_val, max_val):\n",
    "    lowest = int(math.ceil(math.sqrt(min_val)))\n",
    "    highest = int(math.sqrt(max_val))\n",
    "    return (n**2 for n in range(lowest, highest + 1))\n",
    "\n",
    "min_range = int(input(\"Enter the minimum value: \"))\n",
    "max_range = int(input(\"Enter the maximum value: \"))\n",
    "\n",
    "perfect_square_count = sum(1 for _ in perfect_squares(min_range, max_range))\n",
    "print(f\"Number of perfect squares in the range [{min_range}, {max_range}]: {perfect_square_count}\")\n"
   ]
  },
  {
   "cell_type": "code",
   "execution_count": null,
   "id": "df0ac2d5-dec2-482f-880f-5f2f9b237b3e",
   "metadata": {},
   "outputs": [],
   "source": [
    "    Question Number 2 : Write a program to generate foloowing pattern"
   ]
  },
  {
   "cell_type": "code",
   "execution_count": 6,
   "id": "d604e37b-a29d-48bb-b410-b7e6624febfe",
   "metadata": {},
   "outputs": [
    {
     "name": "stdin",
     "output_type": "stream",
     "text": [
      "Enter number of rows:  5\n"
     ]
    },
    {
     "name": "stdout",
     "output_type": "stream",
     "text": [
      "* \n",
      "* * \n",
      "* * * \n",
      "* * * * \n",
      "* * * * * \n",
      "* * * * \n",
      "* * * \n",
      "* * \n",
      "* \n"
     ]
    }
   ],
   "source": [
    "def mixed_star_pattern(n):\n",
    "    \n",
    "    for i in range(1, n + 1):\n",
    "        for j in range(1, i + 1):\n",
    "            print(\"*\", end=\" \")\n",
    "        print()\n",
    "\n",
    "    \n",
    "    for i in range(n - 1, 0, -1):\n",
    "        for j in range(1, i + 1):\n",
    "            print(\"*\", end=\" \")\n",
    "        print()\n",
    "\n",
    "n = int(input(\"Enter number of rows: \"))\n",
    "mixed_star_pattern(n)\n"
   ]
  },
  {
   "cell_type": "code",
   "execution_count": null,
   "id": "4d213225-3eac-4ff5-b1dc-9451c3da4b73",
   "metadata": {},
   "outputs": [],
   "source": [
    "Question 3 : Write a program to find number is prime or not prime"
   ]
  },
  {
   "cell_type": "code",
   "execution_count": 7,
   "id": "4661f605-86d7-4a81-a326-006f52692db2",
   "metadata": {},
   "outputs": [
    {
     "name": "stdin",
     "output_type": "stream",
     "text": [
      "Enter a number:  4\n"
     ]
    },
    {
     "name": "stdout",
     "output_type": "stream",
     "text": [
      "4 is not a prime number\n"
     ]
    }
   ],
   "source": [
    "def is_prime(num):\n",
    "    if num <= 1:\n",
    "        return False\n",
    "    for i in range(2, int(num**0.5) + 1):\n",
    "        if num % i == 0:\n",
    "            return False\n",
    "    return True\n",
    "\n",
    "n = int(input(\"Enter a number: \"))\n",
    "if is_prime(n):\n",
    "    print(f\"{n} is a prime number\")\n",
    "else:\n",
    "    print(f\"{n} is not a prime number\")\n"
   ]
  },
  {
   "cell_type": "code",
   "execution_count": null,
   "id": "ae517b43-3318-4877-a754-ac2bae30dca7",
   "metadata": {},
   "outputs": [],
   "source": []
  }
 ],
 "metadata": {
  "kernelspec": {
   "display_name": "Python 3 (ipykernel)",
   "language": "python",
   "name": "python3"
  },
  "language_info": {
   "codemirror_mode": {
    "name": "ipython",
    "version": 3
   },
   "file_extension": ".py",
   "mimetype": "text/x-python",
   "name": "python",
   "nbconvert_exporter": "python",
   "pygments_lexer": "ipython3",
   "version": "3.11.7"
  }
 },
 "nbformat": 4,
 "nbformat_minor": 5
}
